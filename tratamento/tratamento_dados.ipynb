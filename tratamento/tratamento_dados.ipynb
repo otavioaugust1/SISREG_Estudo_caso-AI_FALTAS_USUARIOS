{
 "cells": [
  {
   "cell_type": "markdown",
   "metadata": {},
   "source": [
    "# TRATAMENTO DOS DADOS - PREVISÃO "
   ]
  },
  {
   "cell_type": "markdown",
   "metadata": {},
   "source": [
    "## tratamento dos dados com: \n",
    "- Analise Exploratoria e Graficos\n",
    "- Tratamento de dados missing\n",
    "- Tratamento de outliers\n",
    "- OneHotEncoding\n",
    "- localização de lat e log\n",
    "- calculo de distancia (em km)\n",
    "- Engenharia de Atributos\n",
    "- Tratamento de dados\n",
    "- Normalização de dados\n",
    "- Preparação do dados para machine learning\n",
    "- Criação, teste e validação do modelo"
   ]
  },
  {
   "cell_type": "code",
   "execution_count": null,
   "metadata": {},
   "outputs": [],
   "source": [
    "#instalação de biblioteca (opcional)\n",
    "# A primeira coisa que temos que fazer é importar os pacotes que iremos utilizar.\n",
    "import pip\n",
    "pip.main([\"install\",\"pandas\",\"seaborn\",\"numpy\",\"matplotlib\",\"sklearn\",\"warnings\"])"
   ]
  },
  {
   "cell_type": "code",
   "execution_count": null,
   "metadata": {},
   "outputs": [],
   "source": [
    "#importação das bibliotecas\n",
    "import pandas as pd #Possui inúmeras funções e comandos para importar arquivos, analisar dados, etc\n",
    "import matplotlib.pyplot as plt  #Possui uma série de funções e comandos para exibição de gráficos\n",
    "import seaborn as sns   #Possui uma série de funções e comandos para exibição de gráficos \n",
    "import numpy as np #Possui uma série de funções e comandos para trabalharmos com números de forma em geral\n",
    "import warnings #Possui detalhes sobre os avisos e alertas que aparecem\n",
    "warnings.filterwarnings(\"ignore\") \n",
    "\n",
    "from glob import glob\n",
    "from sklearn.model_selection import train_test_split # Utilizado para separar dados de treino e teste\n",
    "from sklearn.preprocessing import StandardScaler # Utilizado para fazer a normalização dos dados\n",
    "from sklearn.preprocessing import MinMaxScaler # Utilizado para fazer a normalização dos dados\n",
    "from sklearn.preprocessing import LabelEncoder # Utilizado para fazer o OneHotEncoding\n",
    "from sklearn.linear_model import LinearRegression # Algoritmo de Regressão Linear\n",
    "from sklearn.metrics import r2_score # Utilizado para medir a acuracia do modelo preditivo\n",
    "\n",
    "#Comando para exibir todas colunas do arquivo\n",
    "pd.set_option('display.max_columns', None)\n",
    "pd.set_option('display.max_rows', None)"
   ]
  },
  {
   "cell_type": "markdown",
   "metadata": {},
   "source": [
    "## Importação dos dados, Analise Exploratória e Tratamento"
   ]
  },
  {
   "cell_type": "code",
   "execution_count": null,
   "metadata": {},
   "outputs": [],
   "source": [
    "#Criando um unico DataFrame unificando todos os arquivos CSV.\n",
    "arquivos = sorted(glob(r'C:\\Users\\otavi\\Desktop\\base\\*.csv'))\n",
    "df_dados = pd.concat((pd.read_csv(cont, \n",
    "    dtype={'CNES_EXECUTANTE':'str','IBGE_USUARIO':'str','CEP_USUARIO':'str', 'CEP_UNID_EXECUTANTE':'str'}) \n",
    "    for cont in arquivos),ignore_index=True)"
   ]
  },
  {
   "cell_type": "code",
   "execution_count": null,
   "metadata": {},
   "outputs": [],
   "source": [
    "#Comando utilizado para verificar a quantidade de linhas e colunas do arquivo\n",
    "#Colunas também são chamadas de variáveis.\n",
    "df_dados.shape"
   ]
  },
  {
   "cell_type": "code",
   "execution_count": null,
   "metadata": {},
   "outputs": [],
   "source": [
    "#Comando utilizado para verificar as linhas iniciais do DataFrame\n",
    "df_dados.head()"
   ]
  },
  {
   "cell_type": "code",
   "execution_count": null,
   "metadata": {},
   "outputs": [],
   "source": [
    "#Comando utilizado para verificar as linhas finais do DataFrame\n",
    "df_dados.tail()"
   ]
  },
  {
   "cell_type": "code",
   "execution_count": null,
   "metadata": {},
   "outputs": [],
   "source": [
    "#Comando utilizado para verificar informações sobre os dados(Tipo de variáveis, Variáveis, Quantidade de registros, etc)\n",
    "\n",
    "# A variavel CODIGO_CLIENTE poderá ser excluída\n",
    "# As variaveis UF, ESCOLARIDADE, CASA_PROPRIA, OUTRA_RENDA, TRABALHANDO_ATUALMENTE e ESTADO_CIVIL --> OneHotEncoding\n",
    "# A variavel ULTIMO_SALARIO está como STRING e precisa ser NUMERICA\n",
    "df_dados.info()"
   ]
  },
  {
   "cell_type": "code",
   "execution_count": null,
   "metadata": {},
   "outputs": [],
   "source": []
  },
  {
   "cell_type": "code",
   "execution_count": null,
   "metadata": {},
   "outputs": [],
   "source": []
  },
  {
   "cell_type": "code",
   "execution_count": null,
   "metadata": {},
   "outputs": [],
   "source": []
  },
  {
   "cell_type": "code",
   "execution_count": null,
   "metadata": {},
   "outputs": [],
   "source": []
  }
 ],
 "metadata": {
  "kernelspec": {
   "display_name": "Python 3.10.8 64-bit (microsoft store)",
   "language": "python",
   "name": "python3"
  },
  "language_info": {
   "codemirror_mode": {
    "name": "ipython",
    "version": 3
   },
   "file_extension": ".py",
   "mimetype": "text/x-python",
   "name": "python",
   "nbconvert_exporter": "python",
   "pygments_lexer": "ipython3",
   "version": "3.10.8"
  },
  "orig_nbformat": 4,
  "vscode": {
   "interpreter": {
    "hash": "f7f8c097c8b77234b1554043a16e456bc3013eb7e1454957444d1d61c725966c"
   }
  }
 },
 "nbformat": 4,
 "nbformat_minor": 2
}
