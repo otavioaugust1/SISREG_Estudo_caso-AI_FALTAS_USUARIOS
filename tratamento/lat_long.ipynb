{
 "cells": [
  {
   "cell_type": "code",
   "execution_count": null,
   "metadata": {},
   "outputs": [],
   "source": []
  },
  {
   "cell_type": "code",
   "execution_count": 1,
   "metadata": {},
   "outputs": [],
   "source": [
    "import time\n",
    "import os\n",
    "import sys\n",
    "import pandas as pd\n",
    "from numpy import dtype\n",
    "from glob import glob\n",
    "from bs4 import BeautifulSoup\n",
    "from selenium import webdriver\n",
    "from selenium.webdriver.chrome.options import Options"
   ]
  },
  {
   "cell_type": "code",
   "execution_count": 2,
   "metadata": {},
   "outputs": [],
   "source": [
    "#importação de dados\n",
    "arquivos = sorted(glob(r'C:\\Users\\otavi\\Desktop\\base\\*.csv'))\n",
    "df_original = pd.concat((pd.read_csv(cont, \n",
    "    dtype={'CNES_EXECUTANTE':'str','IBGE_USUARIO':'str','CEP_USUARIO':'str', 'CEP_UNID_EXECUTANTE':'str'}) \n",
    "    for cont in arquivos),ignore_index=True)"
   ]
  },
  {
   "cell_type": "code",
   "execution_count": 3,
   "metadata": {},
   "outputs": [],
   "source": [
    "df_cep = pd.read_csv(r'C:\\Users\\otavi\\GitHub\\SISREG_Estudo_caso-AI_FALTAS_USUARIOS\\dados\\TABELA_CEP_BR.txt', dtype=str, sep=\"\t\", header=None)\n",
    "df_cep.columns = ['CEP','UF','CIDADE','BAIRRO','LOGRADOURO']  #http://cep.la/baixar"
   ]
  },
  {
   "cell_type": "code",
   "execution_count": 4,
   "metadata": {},
   "outputs": [
    {
     "data": {
      "text/html": [
       "<div>\n",
       "<style scoped>\n",
       "    .dataframe tbody tr th:only-of-type {\n",
       "        vertical-align: middle;\n",
       "    }\n",
       "\n",
       "    .dataframe tbody tr th {\n",
       "        vertical-align: top;\n",
       "    }\n",
       "\n",
       "    .dataframe thead th {\n",
       "        text-align: right;\n",
       "    }\n",
       "</style>\n",
       "<table border=\"1\" class=\"dataframe\">\n",
       "  <thead>\n",
       "    <tr style=\"text-align: right;\">\n",
       "      <th></th>\n",
       "      <th>CEP_USUARIO</th>\n",
       "    </tr>\n",
       "  </thead>\n",
       "  <tbody>\n",
       "    <tr>\n",
       "      <th>0</th>\n",
       "      <td>12441170</td>\n",
       "    </tr>\n",
       "    <tr>\n",
       "      <th>1</th>\n",
       "      <td>12922810</td>\n",
       "    </tr>\n",
       "    <tr>\n",
       "      <th>2</th>\n",
       "      <td>66033540</td>\n",
       "    </tr>\n",
       "    <tr>\n",
       "      <th>3</th>\n",
       "      <td>54515090</td>\n",
       "    </tr>\n",
       "    <tr>\n",
       "      <th>4</th>\n",
       "      <td>88352495</td>\n",
       "    </tr>\n",
       "  </tbody>\n",
       "</table>\n",
       "</div>"
      ],
      "text/plain": [
       "  CEP_USUARIO\n",
       "0    12441170\n",
       "1    12922810\n",
       "2    66033540\n",
       "3    54515090\n",
       "4    88352495"
      ]
     },
     "execution_count": 4,
     "metadata": {},
     "output_type": "execute_result"
    }
   ],
   "source": [
    "#criando um DataFrame somente os CEP's dos usuarios.\n",
    "df_ceps_usuario = df_original['CEP_USUARIO']\n",
    "df_ceps_usuario = pd.DataFrame(df_ceps_usuario)\n",
    "df_ceps_usuario.drop_duplicates(inplace=True)\n",
    "df_ceps_usuario.dropna(inplace=True)\n",
    "df_ceps_usuario.head(5)"
   ]
  },
  {
   "cell_type": "code",
   "execution_count": 5,
   "metadata": {},
   "outputs": [
    {
     "name": "stdout",
     "output_type": "stream",
     "text": [
      "Cep's unicos de usuarios:  CEP_USUARIO    413882\n",
      "dtype: int64\n"
     ]
    }
   ],
   "source": [
    "#quantidade de CEP's localizado na base \n",
    "print(\"Cep's unicos de usuarios: \",df_ceps_usuario.count())"
   ]
  },
  {
   "cell_type": "code",
   "execution_count": 6,
   "metadata": {},
   "outputs": [],
   "source": [
    "#localizando endereço do usuario com a base do CEP's BR\n",
    "df_ceps_usuario = pd.merge(df_ceps_usuario, df_cep, left_on=['CEP_USUARIO'],right_on=['CEP'] , how='left')"
   ]
  },
  {
   "cell_type": "code",
   "execution_count": 7,
   "metadata": {},
   "outputs": [
    {
     "data": {
      "text/html": [
       "<div>\n",
       "<style scoped>\n",
       "    .dataframe tbody tr th:only-of-type {\n",
       "        vertical-align: middle;\n",
       "    }\n",
       "\n",
       "    .dataframe tbody tr th {\n",
       "        vertical-align: top;\n",
       "    }\n",
       "\n",
       "    .dataframe thead th {\n",
       "        text-align: right;\n",
       "    }\n",
       "</style>\n",
       "<table border=\"1\" class=\"dataframe\">\n",
       "  <thead>\n",
       "    <tr style=\"text-align: right;\">\n",
       "      <th></th>\n",
       "      <th>CEP_USUARIO</th>\n",
       "      <th>CEP</th>\n",
       "      <th>UF</th>\n",
       "      <th>CIDADE</th>\n",
       "      <th>BAIRRO</th>\n",
       "      <th>LOGRADOURO</th>\n",
       "      <th>END_COMPLETO</th>\n",
       "    </tr>\n",
       "  </thead>\n",
       "  <tbody>\n",
       "    <tr>\n",
       "      <th>0</th>\n",
       "      <td>12441170</td>\n",
       "      <td>12441170</td>\n",
       "      <td>SP</td>\n",
       "      <td>Pindamonhangaba</td>\n",
       "      <td>Jardim Padre Rodolfo</td>\n",
       "      <td>Rua Oswaldo Marcondes de Azevedo</td>\n",
       "      <td>Rua Oswaldo Marcondes de Azevedo - Pindamonhan...</td>\n",
       "    </tr>\n",
       "    <tr>\n",
       "      <th>1</th>\n",
       "      <td>12922810</td>\n",
       "      <td>12922810</td>\n",
       "      <td>SP</td>\n",
       "      <td>Bragança Paulista</td>\n",
       "      <td>Parque dos Estados</td>\n",
       "      <td>Rua Amapá</td>\n",
       "      <td>Rua Amapá - Bragança Paulista - SP</td>\n",
       "    </tr>\n",
       "    <tr>\n",
       "      <th>2</th>\n",
       "      <td>66033540</td>\n",
       "      <td>66033540</td>\n",
       "      <td>PA</td>\n",
       "      <td>Belém</td>\n",
       "      <td>Condor</td>\n",
       "      <td>Passagem Nazaré</td>\n",
       "      <td>Passagem Nazaré - Belém - PA</td>\n",
       "    </tr>\n",
       "    <tr>\n",
       "      <th>3</th>\n",
       "      <td>54515090</td>\n",
       "      <td>54515090</td>\n",
       "      <td>PE</td>\n",
       "      <td>Cabo de Santo Agostinho</td>\n",
       "      <td>COHAB</td>\n",
       "      <td>Rua Alexandra Figueiredo Silva</td>\n",
       "      <td>Rua Alexandra Figueiredo Silva - Cabo de Santo...</td>\n",
       "    </tr>\n",
       "    <tr>\n",
       "      <th>4</th>\n",
       "      <td>88352495</td>\n",
       "      <td>88352495</td>\n",
       "      <td>SC</td>\n",
       "      <td>Brusque</td>\n",
       "      <td>Limoeiro</td>\n",
       "      <td>Rua Itajaí</td>\n",
       "      <td>Rua Itajaí - Brusque - SC</td>\n",
       "    </tr>\n",
       "  </tbody>\n",
       "</table>\n",
       "</div>"
      ],
      "text/plain": [
       "  CEP_USUARIO       CEP  UF                   CIDADE                BAIRRO  \\\n",
       "0    12441170  12441170  SP          Pindamonhangaba  Jardim Padre Rodolfo   \n",
       "1    12922810  12922810  SP        Bragança Paulista    Parque dos Estados   \n",
       "2    66033540  66033540  PA                    Belém                Condor   \n",
       "3    54515090  54515090  PE  Cabo de Santo Agostinho                 COHAB   \n",
       "4    88352495  88352495  SC                  Brusque              Limoeiro   \n",
       "\n",
       "                         LOGRADOURO  \\\n",
       "0  Rua Oswaldo Marcondes de Azevedo   \n",
       "1                         Rua Amapá   \n",
       "2                   Passagem Nazaré   \n",
       "3    Rua Alexandra Figueiredo Silva   \n",
       "4                        Rua Itajaí   \n",
       "\n",
       "                                        END_COMPLETO  \n",
       "0  Rua Oswaldo Marcondes de Azevedo - Pindamonhan...  \n",
       "1                 Rua Amapá - Bragança Paulista - SP  \n",
       "2                       Passagem Nazaré - Belém - PA  \n",
       "3  Rua Alexandra Figueiredo Silva - Cabo de Santo...  \n",
       "4                          Rua Itajaí - Brusque - SC  "
      ]
     },
     "execution_count": 7,
     "metadata": {},
     "output_type": "execute_result"
    }
   ],
   "source": [
    "#criando um endereço completo para realizar pesquisa de lat e log\n",
    "df_ceps_usuario[\"END_COMPLETO\"] = df_ceps_usuario['LOGRADOURO']+ \" - \" + df_ceps_usuario['CIDADE']+ \" - \" + df_ceps_usuario['UF']\n",
    "df_ceps_usuario.dropna(inplace=True)\n",
    "df_ceps_usuario.head(5)"
   ]
  },
  {
   "cell_type": "code",
   "execution_count": 8,
   "metadata": {},
   "outputs": [
    {
     "name": "stderr",
     "output_type": "stream",
     "text": [
      "C:\\Users\\otavi\\AppData\\Local\\Temp\\ipykernel_19032\\4258199709.py:1: DeprecationWarning: executable_path has been deprecated, please pass in a Service object\n",
      "  driver = webdriver.Chrome(r\"../navergadores/chromedriver.exe\") #chromedriver.exe\n"
     ]
    }
   ],
   "source": [
    "\n",
    "driver = webdriver.Chrome(r\"../navergadores/chromedriver.exe\") #chromedriver.exe\n",
    "url = \"https://developers-dot-devsite-v2-prod.appspot.com/maps/documentation/utils/geocoder#q%3D\"\n",
    "driver.get(url)\n",
    "time.sleep(5)"
   ]
  },
  {
   "cell_type": "code",
   "execution_count": null,
   "metadata": {},
   "outputs": [],
   "source": [
    "for endereco in df_ceps_usuario:\n",
    "    "
   ]
  }
 ],
 "metadata": {
  "kernelspec": {
   "display_name": "Python 3.10.8 64-bit (microsoft store)",
   "language": "python",
   "name": "python3"
  },
  "language_info": {
   "codemirror_mode": {
    "name": "ipython",
    "version": 3
   },
   "file_extension": ".py",
   "mimetype": "text/x-python",
   "name": "python",
   "nbconvert_exporter": "python",
   "pygments_lexer": "ipython3",
   "version": "3.10.8"
  },
  "orig_nbformat": 4,
  "vscode": {
   "interpreter": {
    "hash": "f7f8c097c8b77234b1554043a16e456bc3013eb7e1454957444d1d61c725966c"
   }
  }
 },
 "nbformat": 4,
 "nbformat_minor": 2
}
