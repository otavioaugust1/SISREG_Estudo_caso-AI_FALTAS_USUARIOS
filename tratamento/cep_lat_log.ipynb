{
 "cells": [
  {
   "cell_type": "markdown",
   "metadata": {},
   "source": [
    "# Gerador de lat e log "
   ]
  },
  {
   "cell_type": "markdown",
   "metadata": {},
   "source": [
    "...."
   ]
  },
  {
   "cell_type": "markdown",
   "metadata": {},
   "source": [
    "## importação dos dados"
   ]
  },
  {
   "cell_type": "code",
   "execution_count": null,
   "metadata": {},
   "outputs": [],
   "source": [
    "import pandas as pd\n",
    "from geopy.geocoders import Nominatim\n",
    "from geopy.extra.rate_limiter import RateLimiter\n",
    "from numpy import dtype"
   ]
  },
  {
   "cell_type": "code",
   "execution_count": null,
   "metadata": {},
   "outputs": [],
   "source": [
    "#importação de dados\n",
    "df_original = pd.read_csv('../SISREG_Estudo_caso-AI_FALTAS_USUARIOS/dados/DADOS_SISREG.csv', \n",
    "    dtype={'CNES_EXECUTANTE':'str','IBGE_USUARIO':'str','CEP_USUARIO':'str', 'CEP_UNID_EXECUTANTE':'str'}) \n",
    "df_cep = pd.read_csv('../SISREG_Estudo_caso-AI_FALTAS_USUARIOS/dados/TABELA_CEP_BR.txt', dtype=str, sep=\"\t\", header=None)\n",
    "df_cep.columns = ['CEP','UF','CIDADE','BAIRRO','LOGRADOURO']  #http://cep.la/baixar"
   ]
  },
  {
   "cell_type": "markdown",
   "metadata": {},
   "source": [
    "## identificando CEP's unicos"
   ]
  },
  {
   "cell_type": "markdown",
   "metadata": {},
   "source": [
    "### CEP's do USUARIO"
   ]
  },
  {
   "cell_type": "code",
   "execution_count": null,
   "metadata": {},
   "outputs": [],
   "source": [
    "#criando um DataFrame somente os CEP's dos usuarios.\n",
    "df_ceps_usuario = df_original['CEP_USUARIO']\n",
    "df_ceps_usuario = pd.DataFrame(df_ceps_usuario)\n",
    "df_ceps_usuario.drop_duplicates(inplace=True)\n",
    "df_ceps_usuario.dropna(inplace=True)\n",
    "df_ceps_usuario.head(5)\n"
   ]
  },
  {
   "cell_type": "code",
   "execution_count": null,
   "metadata": {},
   "outputs": [],
   "source": [
    "#quantidade de CEP's localizado na base \n",
    "print(\"Cep's unicos de usuarios: \",df_ceps_usuario.count())"
   ]
  },
  {
   "cell_type": "markdown",
   "metadata": {},
   "source": [
    "### CEP's da UNIDADE EXECUTANTE"
   ]
  },
  {
   "cell_type": "code",
   "execution_count": null,
   "metadata": {},
   "outputs": [],
   "source": [
    "#criando um DataFrame somente os CEP's das unidades.\n",
    "df_ceps_cnes = df_original['CEP_UNID_EXECUTANTE']\n",
    "df_ceps_cnes = pd.DataFrame(df_ceps_cnes)\n",
    "df_ceps_cnes.drop_duplicates(inplace=True)\n",
    "df_ceps_cnes.dropna(inplace=True)\n",
    "df_ceps_cnes.head(5)"
   ]
  },
  {
   "cell_type": "code",
   "execution_count": null,
   "metadata": {},
   "outputs": [],
   "source": [
    "#quantidade de CEP's localizado na base e tratado\n",
    "print(\"Cep's unicos de usuarios: \",df_ceps_cnes.count())"
   ]
  },
  {
   "cell_type": "markdown",
   "metadata": {},
   "source": [
    "## TRATAMENTO COM OS CEP's DOS USUARIOS"
   ]
  },
  {
   "cell_type": "code",
   "execution_count": null,
   "metadata": {},
   "outputs": [],
   "source": [
    "#localizando endereço do usuario com a base do CEP's BR\n",
    "df_ceps_usuario = pd.merge(df_ceps_usuario, df_cep, left_on=['CEP_USUARIO'],right_on=['CEP'] , how='left')"
   ]
  },
  {
   "cell_type": "code",
   "execution_count": null,
   "metadata": {},
   "outputs": [],
   "source": [
    "#criando um endereço completo para realizar pesquisa de lat e log\n",
    "df_ceps_usuario[\"END_COMPLETO\"] = df_ceps_usuario['LOGRADOURO']+ \" - \" + df_ceps_usuario['CIDADE']+ \" - \" + df_ceps_usuario['UF']\n",
    "df_ceps_usuario.dropna(inplace=True)\n",
    "df_ceps_usuario.head(5)"
   ]
  },
  {
   "cell_type": "code",
   "execution_count": null,
   "metadata": {},
   "outputs": [],
   "source": [
    "#localizando lat e log (PROCESSO DEMORADO)\n",
    "locator = Nominatim(user_agent='localizacao')\n",
    "geocode = RateLimiter(locator.geocode, min_delay_seconds=1)\n",
    "df_ceps_usuario[\"GEOLOCALIZADO\"] = df_ceps_usuario[\"END_COMPLETO\"].apply(geocode)\n",
    "df_ceps_usuario.head(10)"
   ]
  },
  {
   "cell_type": "code",
   "execution_count": null,
   "metadata": {},
   "outputs": [],
   "source": [
    "#verificar LOCALIZAÇÃO lat e log não localizada (limpeza)\n",
    "df_ceps_usuario.dropna(inplace=True)"
   ]
  },
  {
   "cell_type": "code",
   "execution_count": null,
   "metadata": {},
   "outputs": [],
   "source": [
    "#colocando a LATITUDE e LONGITUDE na tabela\n",
    "df_ceps_usuario['LATITUDE_USUARIO'] = df_ceps_usuario['GEOLOCALIZADO'].apply(lambda loc: loc.latitude)\n",
    "df_ceps_usuario['LONGITUDE_USUARIO'] = df_ceps_usuario['GEOLOCALIZADO'].apply(lambda loc: loc.longitude)\n",
    "df_ceps_usuario.drop('END_COMPLETO', axis=1, inplace=True)\n",
    "df_ceps_usuario.drop('GEOLOCALIZADO', axis=1, inplace=True)\n",
    "df_ceps_usuario.head(10)"
   ]
  },
  {
   "cell_type": "code",
   "execution_count": null,
   "metadata": {},
   "outputs": [],
   "source": [
    "#quantidade de CEP's localizado na base e tratado\n",
    "print(\"Cep's unicos de usuarios: \",df_ceps_usuario.count())"
   ]
  },
  {
   "cell_type": "markdown",
   "metadata": {},
   "source": [
    "## GERAÇÃO DE ARQUIVO CSV - CEP'S com latitude e longitude "
   ]
  },
  {
   "cell_type": "code",
   "execution_count": null,
   "metadata": {},
   "outputs": [],
   "source": [
    "df_ceps_tratado = df_ceps_usuario.filter(items=['CEP','UF','CIDADE','BAIRRO','LOGRADOURO','LATITUDE_USUARIO','LONGITUDE_USUARIO'])\n",
    "df_ceps_tratado"
   ]
  },
  {
   "cell_type": "code",
   "execution_count": null,
   "metadata": {},
   "outputs": [],
   "source": [
    "df_ceps_tratado.to_csv('../SISREG_Estudo_caso-AI_FALTAS_USUARIOS/dados/TABELA_CEP_LAT_LON.csv')"
   ]
  }
 ],
 "metadata": {
  "kernelspec": {
   "display_name": "Python 3.10.7 64-bit (microsoft store)",
   "language": "python",
   "name": "python3"
  },
  "language_info": {
   "codemirror_mode": {
    "name": "ipython",
    "version": 3
   },
   "file_extension": ".py",
   "mimetype": "text/x-python",
   "name": "python",
   "nbconvert_exporter": "python",
   "pygments_lexer": "ipython3",
   "version": "3.10.8"
  },
  "orig_nbformat": 4,
  "vscode": {
   "interpreter": {
    "hash": "f7f8c097c8b77234b1554043a16e456bc3013eb7e1454957444d1d61c725966c"
   }
  }
 },
 "nbformat": 4,
 "nbformat_minor": 2
}
