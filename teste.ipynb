{
 "cells": [
  {
   "cell_type": "code",
   "execution_count": null,
   "metadata": {},
   "outputs": [],
   "source": [
    "#quantidade de CNES's localizado na base \n",
    "print(\"CNES's executante na base: \",df_cnes_usuario.count())"
   ]
  },
  {
   "cell_type": "code",
   "execution_count": null,
   "metadata": {},
   "outputs": [],
   "source": []
  },
  {
   "cell_type": "code",
   "execution_count": null,
   "metadata": {},
   "outputs": [],
   "source": []
  },
  {
   "cell_type": "code",
   "execution_count": null,
   "metadata": {},
   "outputs": [],
   "source": []
  },
  {
   "cell_type": "code",
   "execution_count": null,
   "metadata": {},
   "outputs": [],
   "source": [
    "#localizando informações com a base do CNES\n",
    "df_cnes_usuario = pd.merge(df_cnes_usuario,df_cnes, left_on='CO_CNES', right_on='CO_CNES', how='left')"
   ]
  },
  {
   "cell_type": "code",
   "execution_count": null,
   "metadata": {},
   "outputs": [],
   "source": [
    "#verificar CNES localizado (limpeza)\n",
    "df_cnes_usuario.dropna(inplace=True)"
   ]
  },
  {
   "cell_type": "code",
   "execution_count": null,
   "metadata": {},
   "outputs": [],
   "source": [
    "#quantidade de CNES localizado na base e tratado\n",
    "print(\"Cep's unicos de usuarios: \",df_cnes_usuario.count())"
   ]
  },
  {
   "cell_type": "code",
   "execution_count": null,
   "metadata": {},
   "outputs": [],
   "source": [
    "df_cnes_usuario.head(5)"
   ]
  },
  {
   "cell_type": "code",
   "execution_count": null,
   "metadata": {},
   "outputs": [],
   "source": [
    "df_original_cc = pd.merge(df_original_c, df_cnes_usuario, how=\"inner\", on=\"CO_CNES\")\n",
    "df_original_cc.head()"
   ]
  },
  {
   "cell_type": "code",
   "execution_count": null,
   "metadata": {},
   "outputs": [],
   "source": [
    "## Calculando distancia (usuario x unidade executante)"
   ]
  },
  {
   "cell_type": "code",
   "execution_count": null,
   "metadata": {},
   "outputs": [],
   "source": [
    "#tratamento nos dados\n",
    "df_original_cc = df_original_cc.astype({\n",
    "    'LATITUDE_USUARIO':float,\n",
    "    'LONGITUDE_USUARIO':float,\n",
    "    'NU_LONGITUDE':float,\n",
    "    'NU_LATITUDE':float,\n",
    "})"
   ]
  },
  {
   "cell_type": "code",
   "execution_count": null,
   "metadata": {},
   "outputs": [],
   "source": [
    "#verificar dados (limpeza)\n",
    "df_original_cc.dropna(inplace=True)\n",
    "df_original_cc.info()"
   ]
  },
  {
   "cell_type": "code",
   "execution_count": null,
   "metadata": {},
   "outputs": [],
   "source": [
    "df_original_cc.head(10)"
   ]
  },
  {
   "cell_type": "code",
   "execution_count": null,
   "metadata": {},
   "outputs": [],
   "source": [
    "#calcular a distancia da unidade executante e USUARIO (LAT E LON)\n",
    "for idx, row in df_original_cc.iterrows():\n",
    "    coord_usuario = (row.LATITUDE_USUARIO, row.LONGITUDE_USUARIO)\n",
    "    coord_unidadeEXE = (row.NU_LATITUDE, row.NU_LONGITUDE)\n",
    "\n",
    "    df_original_cc.at[idx, \"DISTANCIA_KM_USUARIO_UNIDADESOL\"] = round(geopy.distance.distance(coord_usuario,coord_unidadeEXE).km, 2)"
   ]
  },
  {
   "cell_type": "code",
   "execution_count": null,
   "metadata": {},
   "outputs": [],
   "source": [
    "#calcular a distancia da unidade executante e USUARIO (LAT E LON)\n",
    "for idx, row in df_tratado.iterrows():\n",
    "    coord_usuario = (row.LATITUDE_USUARIO, row.LONGITUDE_USUARIO)\n",
    "    coord_unidadeEXE = (row.LATITUDE_UNIDADEEXE, row.LONGITUDE_UNIDADEEXE\n",
    "\n",
    "    df_tratado.at[idx, \"DISTANCIA_KM_USUARIO_UNIDADESOL\"] = round(geopy.distance.distance(coord_usuario,coord_unidadeSOL).km, 2)"
   ]
  },
  {
   "cell_type": "markdown",
   "metadata": {},
   "source": [
    "#quantidade de CNES's localizado na base \n",
    "df_cnes_usuario.info()"
   ]
  },
  {
   "cell_type": "markdown",
   "metadata": {},
   "source": [
    "#Consultar endereço com a API (CEP) (opcional)\n",
    "for idx, row in df_ceps_usuario.iterrows():\n",
    "    \n",
    "    cep = row.CEP_USUARIO\n",
    "    url = 'https://viacep.com.br/ws/%s/json/' % cep\n",
    "    headers = {'User-Agent': 'Autociencia/1.0'}\n",
    "    requisicao = urllib.request.Request(url, headers=headers, method='GET')\n",
    "    usuario = urllib.request.urlopen(requisicao)\n",
    "    conteudo = usuario.read().decode('utf-8')\n",
    "    endereco = json.loads(conteudo)\n",
    "    #time.sleep(1)\n",
    "    usuario.close()    \n",
    "    print(cep)\n",
    "\n",
    "    if \"cep\" in endereco:\n",
    "        df_ceps_usuario.at[idx, 'LOGRADOURO_USUARIO'] = endereco ['logradouro']\n",
    "        df_ceps_usuario.at[idx, 'BAIRRO_USUARIO'] = endereco ['bairro']\n",
    "        df_ceps_usuario.at[idx, 'CIDADE_USUARIO'] = endereco ['localidade']\n",
    "        df_ceps_usuario.at[idx, 'ESTADO_USUARIO'] = endereco ['uf']\n",
    "\n",
    "    else:\n",
    "        \n",
    "        df_ceps_usuario.at[idx, 'LOGRADOURO_USUARIO'] = 'Não Localizado'\n",
    "        df_ceps_usuario.at[idx, 'BAIRRO_USUARIO'] = 'Não Localizado'\n",
    "        df_ceps_usuario.at[idx, 'CIDADE_USUARIO'] = 'Não Localizado'\n",
    "        df_ceps_usuario.at[idx, 'ESTADO_USUARIO'] = 'Não Localizado'"
   ]
  },
  {
   "cell_type": "markdown",
   "metadata": {},
   "source": [
    "#Criando um endereço completo para realizar pesquisa de lat e log\n",
    "df_ceps_usuario [\"END_COMPLETO\"] = df_ceps_usuario['LOGRADOURO_USUARIO']+ \"-\" + df_ceps_usuario['BAIRRO_USUARIO'] + \"-\" +df_ceps_usuario['CIDADE_USUARIO']+ \"-\" +df_ceps_usuario['ESTADO_USUARIO']\n",
    "df_ceps_usuario.head()"
   ]
  },
  {
   "cell_type": "code",
   "execution_count": null,
   "metadata": {},
   "outputs": [],
   "source": []
  },
  {
   "cell_type": "code",
   "execution_count": null,
   "metadata": {},
   "outputs": [],
   "source": [
    "#localizando lat e log \n",
    "locator = Nominatim(user_agent='localizacao')\n",
    "geocode = RateLimiter(locator.geocode, min_delay_seconds=1)\n",
    "df_ceps_usuario[\"GEOLOCALIZADO\"] = df_ceps_usuario[\"END_COMPLETO\"].apply(geocode)\n",
    "df_ceps_usuario.head()"
   ]
  },
  {
   "cell_type": "code",
   "execution_count": null,
   "metadata": {},
   "outputs": [],
   "source": [
    "#colocando a LATITUDE e LONGITUDE na tabela\n",
    "df_ceps_usuario['LATITUDE_USUARIO'] = df_ceps_usuario['GEOLOCALIZADO'].apply(lambda loc: loc.latitude)\n",
    "df_ceps_usuario['LONGITUDE_USUARIO'] = df_ceps_usuario['GEOLOCALIZADO'].apply(lambda loc: loc.longitude)\n",
    "df_ceps_usuario.drop('END_COMPLETO', axis=1, inplace=True)\n",
    "df_ceps_usuario.drop('GEOLOCALIZADO', axis=1, inplace=True)\n",
    "df_ceps_usuario"
   ]
  },
  {
   "cell_type": "code",
   "execution_count": null,
   "metadata": {},
   "outputs": [],
   "source": [
    "df_tratado = pd.merge(df_original, df_ceps_usuario, how=\"inner\", on=\"CEP_USUARIO\")\n",
    "df_tratado.head()"
   ]
  },
  {
   "cell_type": "code",
   "execution_count": null,
   "metadata": {},
   "outputs": [],
   "source": [
    "#calcular a distancia da unidade executante e USUARIO (LAT E LON)\n",
    "for idx, row in df_tratado.iterrows():\n",
    "    coord_usuario = (row.LATITUDE_USUARIO, row.LONGITUDE_USUARIO)\n",
    "    coord_unidadeEXE = (row.LATITUDE_UNIDADEEXE, row.LONGITUDE_UNIDADEEXE\n",
    "\n",
    "    df_tratado.at[idx, \"DISTANCIA_KM_USUARIO_UNIDADESOL\"] = round(geopy.distance.distance(coord_usuario,coord_unidadeSOL).km, 2)"
   ]
  },
  {
   "cell_type": "code",
   "execution_count": null,
   "metadata": {},
   "outputs": [],
   "source": []
  },
  {
   "cell_type": "code",
   "execution_count": null,
   "metadata": {},
   "outputs": [],
   "source": [
    "# https://www.youtube.com/watch?v=-9YbAz6ACmU"
   ]
  },
  {
   "cell_type": "code",
   "execution_count": null,
   "metadata": {},
   "outputs": [],
   "source": []
  },
  {
   "cell_type": "code",
   "execution_count": null,
   "metadata": {},
   "outputs": [],
   "source": []
  },
  {
   "cell_type": "code",
   "execution_count": null,
   "metadata": {},
   "outputs": [],
   "source": []
  },
  {
   "cell_type": "code",
   "execution_count": null,
   "metadata": {},
   "outputs": [],
   "source": []
  },
  {
   "cell_type": "code",
   "execution_count": null,
   "metadata": {},
   "outputs": [],
   "source": []
  },
  {
   "cell_type": "code",
   "execution_count": null,
   "metadata": {},
   "outputs": [],
   "source": []
  },
  {
   "cell_type": "code",
   "execution_count": null,
   "metadata": {},
   "outputs": [],
   "source": []
  }
 ],
 "metadata": {
  "kernelspec": {
   "display_name": "Python 3.10.7 64-bit (microsoft store)",
   "language": "python",
   "name": "python3"
  },
  "language_info": {
   "name": "python",
   "version": "3.10.7"
  },
  "orig_nbformat": 4,
  "vscode": {
   "interpreter": {
    "hash": "f7f8c097c8b77234b1554043a16e456bc3013eb7e1454957444d1d61c725966c"
   }
  }
 },
 "nbformat": 4,
 "nbformat_minor": 2
}
